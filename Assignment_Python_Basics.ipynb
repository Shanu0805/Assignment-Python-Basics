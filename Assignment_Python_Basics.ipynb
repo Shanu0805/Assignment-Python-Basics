{
  "cells": [
    {
      "cell_type": "markdown",
      "metadata": {
        "id": "4_wwccdaNVfq"
      },
      "source": [
        "Theory Questions\n",
        "\n",
        "1. **What is Python, and why is it popular?**\n",
        "\n",
        "  ->Python is a popular, versatile, and easy-to-learn programming language widely used in web development, data science, machine learning, and more, due to its readability, extensive libraries, and a large, supportive community. Python's simple and readable syntax makes it easier to learn and use compared to other programming languages.Python has a large and active community of developers who contibutes to its development, provide support and create libraries and frareworks.\n",
        "\n",
        "\n",
        "2. **What is an interpreter in Python?**\n",
        "\n",
        "    ->In Python, an interpreter is a program that reads and executes Python code line by line, translating it into machine-readable instructions.\n",
        "\n",
        "\n",
        "3. **What are pre-defined keywords in Python?**\n",
        "\n",
        "    ->Python has several predefined or reserved keywords that have special meanings and uses in the language. These keywords are part of the Python syntax and cannot be used as identifiers (such as variable names, function names, or class names) because they are reserved for specific purposes. The shortcut keys in python to show all pre-defined keywords are given below:\n",
        "    [import keyword]\n",
        "    [print(keyword;kwlist)]\n",
        "\n",
        "\n",
        "4.  **Can keywords be used as variable names?**\n",
        "    \n",
        "    ->No, Keywords cannot used as varaible names in Python because keywords have special meanings in the Python language syntax, and if you try to use a keyword as a variable name, it will result in a syntax error.\n",
        "\n",
        "5. **What is mutability in Python?**\n",
        "\n",
        "    ->Mutability in Python refers to the ability of an object to be changed after it is created.\n",
        "\n",
        "6. **Why are lists mutable, but tuples are immutable?**\n",
        "\n",
        "    ->The reason why lists are mutable and tuples are immutable in Python comes down to design decisions related to how these data structures are used and their performance implications. Here's a deeper look into the differences:\n",
        "\n",
        "        *Lists: Lists are designed to be general-purpose containers that are flexible and allow frequent modifications. They are mutable because they need to support operations like adding, removing, and changing elements dynamically. Lists are often used in situations where elements need to change during the program's execution.\n",
        "\n",
        "        Example:\n",
        "                my_list = [1, 2, 3]\n",
        "                my_list.append(4)  # Adding an element\n",
        "                my_list[0] = 10    # Modifying an element\n",
        "                print(my_list)      # Output: [10, 2, 3, 4]\n",
        "\n",
        "        *Tuples: Tuples, on the other hand, are meant to be lightweight and are often used to represent fixed collections of items that should not be modified. By making tuples immutable, Python ensures that their content is fixed and reliable once created, which makes them suitable for use as keys in dictionaries, or in situations where data integrity is important.\n",
        "\n",
        "        Example:\n",
        "                my_tuple = (1, 2, 3)\n",
        "                my_tuple[0] = 10  # This will raise an error because tuples are immutable\n",
        "\n",
        "\n",
        "7.  **What is the difference between “==” and “is” operators in Python?**\n",
        "\n",
        "       ->In Python, the == and is operators are used for comparison, but they serve different purposes:\n",
        "\n",
        "         a. == (Equality Operator):The == operator checks if two objects have the same value.\n",
        "            It compares the data/content of the objects, meaning it checks if the values of two objects are equivalent.\n",
        "            Example:- a = [1, 2, 3]\n",
        "                      b = [1, 2, 3]\n",
        "                      print(a==b)   # True (they have the same values)\n",
        "\n",
        "         b. is (Identity Operator): This is operator check if two objects are the same object in memory.\n",
        "            Examplew:- a = [1, 2, 3]\n",
        "                       b = [1, 2, 3]\n",
        "                       print(a is b) #False (they are two different obejcts in memory)\n",
        "\n",
        "\n",
        "\n",
        "8. **What are logical operators in Python?**\n",
        "\n",
        "    ->In Python, logical operators are used to combine conditional statements or expressions to form complex logical conditions. They return a boolean value (True or False) based on the evaluation of the expressions.\n",
        "\n",
        "\n",
        "9. **hat is type casting in Python?**\n",
        "\n",
        "    ->Type casting (also known as type conversion) in Python is the process of converting one data type into another. Python provides several built-in functions to cast between types. This can be useful when you need to perform operations on different types of data but they need to be in a compatible form.\n",
        "\n",
        "\n",
        "10. **What is the difference between implicit and explicit type casting?**\n",
        "\n",
        "    ->Implicit type casting happens automatically when converting data types, while explicit type casting requires a manual instruction from the programmer to convert a value from one type to another.\n",
        "    Example are given below:-   "
      ]
    },
    {
      "cell_type": "code",
      "execution_count": null,
      "metadata": {
        "id": "K1c4hZ4PRWl7"
      },
      "outputs": [],
      "source": [
        "# For Example : 1. Implicit Type Casting\n",
        "#              x = 10\n",
        "#              y = 20.5\n",
        "#              z = x + y\n",
        "#              print(z)\n",
        "#              print(type(z))\n",
        "#              Output : 30.5\n",
        "#                       <class 'float'>\n",
        "#              2. Explicit Type Casting\n",
        "#              x = 10\n",
        "#              y = 20.5\n",
        "#              z = x + int(y)\n",
        "#              print(z)\n",
        "#              print(type(z))\n",
        "#              Output : 30\n",
        "#                       <class 'int'>\n"
      ]
    },
    {
      "cell_type": "markdown",
      "metadata": {
        "id": "okiN8faYRbO9"
      },
      "source": [
        "11. **What is the purpose of conditional statements in Python?**\n",
        "    \n",
        "    ->The purpose of conditional statements in Python is to allow the program to make decisions and execute specific blocks of code based on whether a condition is True or False. This enables the program to respond differently depending on the situation, controlling the flow of execution and making the program more dynamic and adaptable.\n",
        "\n",
        "\n",
        "12. **How does the elif statement work?**\n",
        "\n",
        "    ->The elif statement in Python is used to check multiple conditions after an initial if condition. If the if condition is False, the program checks the elif condition. If the elif condition is True, its corresponding block of code is executed. You can use multiple elif statements to handle different scenarios. If all conditions are False, the program moves on to the next part (or an else block, if provided).\n",
        "\n",
        "    **x** = 10\n",
        "\n",
        "    **if** x > 15:\n",
        "\n",
        "    **print**(\"Greater than 15\")\n",
        "\n",
        "    **elif** x > 5:\n",
        "\n",
        "    **print**(\"Greater than 5 but less than or equal to 15\")\n",
        "\n",
        "    **else:**\n",
        "     print(\"5 or less\")\n",
        "\n",
        "     **In this example, the elif condition (x > 5) is True, so its block of code is executed.*\n",
        "\n",
        "13. **What is the difference between for and while loops?**\n",
        "\n",
        "    ->A **for loop** is used when you know the exact number of iterations or when you're iterating over a sequence (like a list or range).\n",
        "\n",
        "    ->A **while loop** is used when you want to keep repeating a block of code as long as a condition is True, and you may not know in advance how many iterations are needed.\n",
        "\n",
        "    **Example:**\n",
        "\n",
        "      1. **for loop** (fixed number of iterations):\n",
        "       \n",
        "        -- for i in range(5):\n",
        "\n",
        "            -> **print(i)**\n",
        "\n",
        "            Then Output is:\n",
        "\n",
        "            0\n",
        "\n",
        "            1\n",
        "\n",
        "            2\n",
        "\n",
        "            3\n",
        "\n",
        "            4\n",
        "\n",
        "      2. **while loop**\n",
        "            **i** = 0\n",
        "\n",
        "            while i < 5:  # Will loop as long as i is less than 5\n",
        "\n",
        "            **print(i)**\n",
        "\n",
        "            **i += 1**\n",
        "             \n",
        "            Then Output is:\n",
        "\n",
        "            0\n",
        "            \n",
        "            1\n",
        "            \n",
        "            2\n",
        "\n",
        "            3\n",
        "\n",
        "            4\n",
        "\n",
        "\n",
        "14. **Describe a scenario where a while loop is more suitable than a for loop.**\n",
        "\n",
        "    ->A while loop is more suitable than a for loop when you don't know in advance how many times the loop should run, and the number of iterations depends on a condition being met dynamically. For example, when you are waiting for user input or monitoring a process until a specific condition becomes True or False.\n",
        "\n",
        "      ***Scenario: User Password Entry***\n",
        "\n",
        "      -- Suppose you're building a program where a user has to enter the correct password, and the program should keep prompting the user until they enter the correct password. In this case, the number of attempts is unknown beforehand, so a while loop is more suitable than a for loop.\n",
        "\n",
        "      **Example:**\n",
        "\n",
        "\n",
        "      correct_password = \"python123\"\n",
        "      user_input = \"\"\n",
        "\n",
        "      while user_input != correct_password:\n",
        "        user_input = input(\"Enter your password: \")\n",
        "\n",
        "      print(\"Access granted!\")\n",
        "\n",
        "\n",
        "\n",
        "  \n"
      ]
    },
    {
      "cell_type": "markdown",
      "metadata": {
        "id": "WsiVyGlDZA9U"
      },
      "source": [
        "# Practical Questions"
      ]
    },
    {
      "cell_type": "code",
      "execution_count": null,
      "metadata": {},
      "outputs": [
        {
          "name": "stdout",
          "output_type": "stream",
          "text": [
            "Hello, World!\n"
          ]
        }
      ],
      "source": [
        "# 1. Write a Python program to print \"Hello, World!\".\n",
        "print(\"Hello, World!\")\n"
      ]
    },
    {
      "cell_type": "code",
      "execution_count": 3,
      "metadata": {},
      "outputs": [
        {
          "name": "stdout",
          "output_type": "stream",
          "text": [
            "Name :  Shanu Gupta\n",
            "Age :  22\n"
          ]
        }
      ],
      "source": [
        "#2. Write a Python program that displays your name and age.\n",
        "Name = \"Shanu Gupta\"\n",
        "Age = 22\n",
        "print(\"Name : \", Name)\n",
        "print(\"Age : \", Age)"
      ]
    },
    {
      "cell_type": "code",
      "execution_count": 4,
      "metadata": {},
      "outputs": [
        {
          "name": "stdout",
          "output_type": "stream",
          "text": [
            "['False', 'None', 'True', 'and', 'as', 'assert', 'async', 'await', 'break', 'class', 'continue', 'def', 'del', 'elif', 'else', 'except', 'finally', 'for', 'from', 'global', 'if', 'import', 'in', 'is', 'lambda', 'nonlocal', 'not', 'or', 'pass', 'raise', 'return', 'try', 'while', 'with', 'yield']\n"
          ]
        }
      ],
      "source": [
        "#3. Write code to print all the pre-defined keywords in Python using the keyword library.\n",
        "import keyword\n",
        "print(keyword.kwlist)\n"
      ]
    },
    {
      "cell_type": "code",
      "execution_count": 6,
      "metadata": {},
      "outputs": [
        {
          "name": "stdout",
          "output_type": "stream",
          "text": [
            "True is a keyword\n"
          ]
        }
      ],
      "source": [
        "#4. Write a program that checks if a given word is a Python keyword.\n",
        "word = input(\"Enter a word : \")\n",
        "if word in keyword.kwlist:\n",
        "    print(word, \"is a keyword\")\n",
        "else:\n",
        "    print(word, \"is not a keyword\")"
      ]
    },
    {
      "cell_type": "code",
      "execution_count": 7,
      "metadata": {},
      "outputs": [
        {
          "name": "stdout",
          "output_type": "stream",
          "text": [
            "List :  [1, 2, 3, 4, 5]\n",
            "List after changing element :  [1, 2, 6, 4, 5]\n",
            "Tuple :  (1, 2, 3, 4, 5)\n"
          ]
        }
      ],
      "source": [
        "#5.Create a list and tuple in Python, and demonstrate how attempting to change an element works differently for each.\n",
        "# List\n",
        "list = [1, 2, 3, 4, 5]\n",
        "print(\"List : \", list)\n",
        "list[2] = 6\n",
        "print(\"List after changing element : \", list)\n",
        "# Tuple\n",
        "tuple = (1, 2, 3, 4, 5)\n",
        "print(\"Tuple : \", tuple)\n",
        "# tuple[2] = 6\n",
        "# print(\"Tuple after changing element : \", tuple)\n",
        "# Error : 'tuple' object does not support item assignment\n"
      ]
    },
    {
      "cell_type": "code",
      "execution_count": 8,
      "metadata": {},
      "outputs": [
        {
          "name": "stdout",
          "output_type": "stream",
          "text": [
            "Before function :  [1, 2, 3]\n",
            "Inside function :  [1, 2, 3, 4]\n",
            "After function :  [1, 2, 3, 4]\n",
            "Before function :  Hello\n",
            "Inside function :  Hello World\n",
            "After function :  Hello\n"
          ]
        }
      ],
      "source": [
        "#6. Write a function to demonstrate the behavior of mutable and immutable arguments.\n",
        "def change_list(list):\n",
        "    list.append(4)\n",
        "    print(\"Inside function : \", list)\n",
        "list = [1, 2, 3]\n",
        "print(\"Before function : \", list)\n",
        "change_list(list)\n",
        "print(\"After function : \", list)\n",
        "# Immutable\n",
        "def change_string(string):\n",
        "    string = string + \" World\"\n",
        "    print(\"Inside function : \", string)\n",
        "string = \"Hello\"\n",
        "print(\"Before function : \", string)\n",
        "change_string(string)\n",
        "print(\"After function : \", string)\n"
      ]
    },
    {
      "cell_type": "code",
      "execution_count": 9,
      "metadata": {},
      "outputs": [
        {
          "name": "stdout",
          "output_type": "stream",
          "text": [
            "Both conditions are true\n",
            "Atleast one condition is true\n",
            "Condition is true\n"
          ]
        }
      ],
      "source": [
        "#7. Write a program to demonstrate the use of logical operators.\n",
        "# AND\n",
        "x = 10\n",
        "y = 20\n",
        "if x > 5 and y < 30:\n",
        "    print(\"Both conditions are true\")\n",
        "else:\n",
        "    print(\"Atleast one condition is false\")\n",
        "# OR\n",
        "if x > 5 or y > 30:\n",
        "    print(\"Atleast one condition is true\")\n",
        "else:\n",
        "    print(\"Both conditions are false\")\n",
        "# NOT\n",
        "if not x > 5:\n",
        "    print(\"Condition is false\")\n",
        "else:\n",
        "    print(\"Condition is true\")\n",
        "    "
      ]
    },
    {
      "cell_type": "code",
      "execution_count": 16,
      "metadata": {},
      "outputs": [
        {
          "name": "stdout",
          "output_type": "stream",
          "text": [
            "Integer :  8\n",
            "Float :  8.5\n",
            "Boolean :  True\n"
          ]
        }
      ],
      "source": [
        "#8. Write a Python program to convert user input from string to integer, float, and boolean types.\n",
        "# Integer\n",
        "x = int(input(\"Enter an integer : \"))\n",
        "print(\"Integer : \", x)\n",
        "# Float\n",
        "y = float(input(\"Enter a float : \"))\n",
        "print(\"Float : \", y)\n",
        "# Boolean\n",
        "z = bool(input(\"Enter a boolean : \"))\n",
        "print(\"Boolean : \", z)\n"
      ]
    },
    {
      "cell_type": "code",
      "execution_count": 18,
      "metadata": {},
      "outputs": [
        {
          "name": "stdout",
          "output_type": "stream",
          "text": [
            "List :  [1, 2, 3, 4, 5]\n",
            "List after changing element :  [1, 2, 3.0, 4, 5]\n",
            "List after changing element :  [1, 2, 3, 4, 5]\n"
          ]
        }
      ],
      "source": [
        "#9. Write code to demonstrate type casting with list elements.\n",
        "list = [1, 2, 3, 4, 5]\n",
        "print(\"List : \", list)\n",
        "# Integer to Float\n",
        "list[2] = float(list[2])\n",
        "print(\"List after changing element : \", list)\n",
        "# Float to Integer\n",
        "list[2] = int(list[2])\n",
        "print(\"List after changing element : \", list)\n",
        "\n"
      ]
    },
    {
      "cell_type": "code",
      "execution_count": 25,
      "metadata": {},
      "outputs": [
        {
          "name": "stdout",
          "output_type": "stream",
          "text": [
            "Number is zero\n"
          ]
        }
      ],
      "source": [
        "#10. Write a program that checks if a number is positive, negative, or zero.\n",
        "number = int(input(\"Enter a number : \"))\n",
        "if number > 0:\n",
        "    print(\"Number is positive\")\n",
        "elif number < 0:\n",
        "    print(\"Number is negative\")\n",
        "else:\n",
        "    print(\"Number is zero\")\n"
      ]
    },
    {
      "cell_type": "code",
      "execution_count": 27,
      "metadata": {},
      "outputs": [
        {
          "name": "stdout",
          "output_type": "stream",
          "text": [
            "1 2 3 4 5 6 7 8 9 10 "
          ]
        }
      ],
      "source": [
        "#11. Write a for loop to print numbers from 1 to 10\n",
        "for i in range(1, 11):\n",
        "    print(i, end = \" \")"
      ]
    },
    {
      "cell_type": "code",
      "execution_count": 30,
      "metadata": {},
      "outputs": [
        {
          "name": "stdout",
          "output_type": "stream",
          "text": [
            "Sum of even numbers between 1 and 50 :  600\n"
          ]
        }
      ],
      "source": [
        "#12. Write a Python program to find the sum of all even numbers between 1 and 50.\n",
        "sum = 0\n",
        "for i in range(1, 50):\n",
        "    if i % 2 == 0:\n",
        "        sum += i\n",
        "print(\"Sum of even numbers between 1 and 50 : \", sum)"
      ]
    },
    {
      "cell_type": "code",
      "execution_count": 34,
      "metadata": {},
      "outputs": [
        {
          "name": "stdout",
          "output_type": "stream",
          "text": [
            "String :  Shanu Gupta\n",
            "Reverse :  atpuG unahS\n"
          ]
        }
      ],
      "source": [
        "#13. Write a program to reverse a string using a while loop.\n",
        "# String\n",
        "string = \"Shanu Gupta\"\n",
        "print(\"String : \", string)\n",
        "# Reverse\n",
        "reverse = \"\"\n",
        "i = len(string) - 1\n",
        "while i >= 0:\n",
        "    reverse += string[i]\n",
        "    i -= 1\n",
        "print(\"Reverse : \", reverse)\n"
      ]
    },
    {
      "cell_type": "code",
      "execution_count": 38,
      "metadata": {},
      "outputs": [
        {
          "name": "stdout",
          "output_type": "stream",
          "text": [
            "Factorial of 5 is 120\n"
          ]
        }
      ],
      "source": [
        "#14. Write a Python program to calculate the factorial of a number provided by the user using a while loop.\n",
        "number = int(input(\"Enter a number : \"))\n",
        "factorial = 1\n",
        "i = 1\n",
        "while i <= number:\n",
        "    factorial *= i\n",
        "    i += 1\n",
        "print(\"Factorial of\", number, \"is\", factorial)\n"
      ]
    }
  ],
  "metadata": {
    "colab": {
      "provenance": []
    },
    "kernelspec": {
      "display_name": "Python 3",
      "name": "python3"
    },
    "language_info": {
      "codemirror_mode": {
        "name": "ipython",
        "version": 3
      },
      "file_extension": ".py",
      "mimetype": "text/x-python",
      "name": "python",
      "nbconvert_exporter": "python",
      "pygments_lexer": "ipython3",
      "version": "3.11.9"
    }
  },
  "nbformat": 4,
  "nbformat_minor": 0
}
